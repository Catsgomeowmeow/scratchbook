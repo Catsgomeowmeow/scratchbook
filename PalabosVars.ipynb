{
 "cells": [
  {
   "cell_type": "markdown",
   "metadata": {
    "heading_collapsed": true
   },
   "source": [
    "# Imports"
   ]
  },
  {
   "cell_type": "code",
   "execution_count": 4,
   "metadata": {
    "ExecuteTime": {
     "end_time": "2019-11-26T16:39:09.520061Z",
     "start_time": "2019-11-26T16:39:09.517063Z"
    },
    "hidden": true
   },
   "outputs": [],
   "source": [
    "from IPython.display import display, Math,Latex\n",
    "import numpy as np"
   ]
  },
  {
   "cell_type": "markdown",
   "metadata": {},
   "source": [
    "# Static Variables\n",
    "\n",
    "\n",
    "peclet number = $pe = \\frac{u*(aperture)}{D}$ [  ] \n",
    "\n",
    "u = Velocity [$\\frac{mm}{s}$]   \n",
    "D = diffisuion Coefficient [$\\frac{mm^2}{s}$]  \n",
    "nu = $\\nu $ kinematic viscocity [$\\frac{mm^2}{s}$]   \n",
    "dt $[s]$ "
   ]
  },
  {
   "cell_type": "code",
   "execution_count": 31,
   "metadata": {
    "ExecuteTime": {
     "end_time": "2019-11-26T16:44:15.534064Z",
     "start_time": "2019-11-26T16:44:15.530063Z"
    }
   },
   "outputs": [],
   "source": [
    "pe = np.geomspace(0.01,1000,5) # List of peclet number from 0.1 to 1000 \n",
    "aperture = 0.8 # Mean size of aperture in mm\n",
    "D = 0.0016 \n",
    "nu = 1 # Kinematic Viscocity \n",
    "dt = 0.01  # <- based on tau value "
   ]
  },
  {
   "cell_type": "markdown",
   "metadata": {},
   "source": [
    "# Calculated Variables  \n",
    " Velocity is calculated off of the peclet number to maintain the desired peclet number"
   ]
  },
  {
   "cell_type": "markdown",
   "metadata": {},
   "source": [
    "## Flow Variables"
   ]
  },
  {
   "cell_type": "code",
   "execution_count": 30,
   "metadata": {
    "ExecuteTime": {
     "end_time": "2019-11-26T16:41:58.909008Z",
     "start_time": "2019-11-26T16:41:58.900005Z"
    }
   },
   "outputs": [
    {
     "name": "stdout",
     "output_type": "stream",
     "text": [
      "velocity = [2.00000000e-05 3.55655882e-04 6.32455532e-03 1.12468265e-01\n",
      " 2.00000000e+00]\n"
     ]
    },
    {
     "data": {
      "text/latex": [
       "$\\displaystyle dx = 0.25 mm$"
      ],
      "text/plain": [
       "<IPython.core.display.Math object>"
      ]
     },
     "metadata": {},
     "output_type": "display_data"
    },
    {
     "data": {
      "text/latex": [
       "$\\displaystyle nuLB = 0.16 mm^2/s $"
      ],
      "text/plain": [
       "<IPython.core.display.Math object>"
      ]
     },
     "metadata": {},
     "output_type": "display_data"
    },
    {
     "data": {
      "text/latex": [
       "$\\displaystyle \\tau = 0.98$"
      ],
      "text/plain": [
       "<IPython.core.display.Math object>"
      ]
     },
     "metadata": {},
     "output_type": "display_data"
    }
   ],
   "source": [
    "u = (pe * D)/aperture\n",
    "dx = 0.25 # <- This comes from boundary.getMesh() in palabos \n",
    "nuLB = (nu*dt)/(dx*dx) # kinematic viscocity in lattice botlzman units\n",
    "omega = 1/(3*nuLB+0.5)\n",
    "tau = 1/omega \n",
    "\n",
    "#printing\n",
    "print(\"velocity = {}\".format(u))\n",
    "display(Math(r\"dx = {} mm\".format(dx)))\n",
    "display(Math(r\"nuLB = {} mm^2/s \".format(nuLB)))\n",
    "display(Math(r\"\\tau = {}\".format(tau)))"
   ]
  },
  {
   "cell_type": "markdown",
   "metadata": {},
   "source": [
    "## Concentration Variables"
   ]
  },
  {
   "cell_type": "code",
   "execution_count": 32,
   "metadata": {
    "ExecuteTime": {
     "end_time": "2019-11-26T16:47:07.793056Z",
     "start_time": "2019-11-26T16:47:07.788057Z"
    }
   },
   "outputs": [
    {
     "data": {
      "text/latex": [
       "$\\displaystyle DLB = 0.00025600000000000004$"
      ],
      "text/plain": [
       "<IPython.core.display.Math object>"
      ]
     },
     "metadata": {},
     "output_type": "display_data"
    },
    {
     "data": {
      "text/latex": [
       "$\\displaystyle D\\tau = 0.500768$"
      ],
      "text/plain": [
       "<IPython.core.display.Math object>"
      ]
     },
     "metadata": {},
     "output_type": "display_data"
    }
   ],
   "source": [
    "DLB = (D*dt)/(dx*dx) # kinematic viscocity in lattice botlzman units\n",
    "Domega = 1/(3*DLB+0.5)\n",
    "Dtau = 1/Domega \n",
    "#Prints\n",
    "display(Math(r\"DLB = {}\".format(DLB)))\n",
    "display(Math(r\"D\\tau = {}\".format(Dtau))) "
   ]
  },
  {
   "cell_type": "markdown",
   "metadata": {},
   "source": [
    "## Other Variables \n",
    "\n",
    "Reynolds number = $\\frac{u * aperture}{\\nu}$"
   ]
  },
  {
   "cell_type": "code",
   "execution_count": 21,
   "metadata": {
    "ExecuteTime": {
     "end_time": "2019-11-26T16:40:37.873952Z",
     "start_time": "2019-11-26T16:40:37.870950Z"
    }
   },
   "outputs": [
    {
     "name": "stdout",
     "output_type": "stream",
     "text": [
      "reynolds number in physical units = [1.60000000e-05 2.84524706e-04 5.05964426e-03 8.99746120e-02\n",
      " 1.60000000e+00]\n"
     ]
    }
   ],
   "source": [
    "re = (u*aperture)/nu\n",
    "print(\"reynolds number in physical units = {}\".format(re))\n"
   ]
  },
  {
   "cell_type": "markdown",
   "metadata": {},
   "source": [
    "# Other values in LBM units"
   ]
  },
  {
   "cell_type": "code",
   "execution_count": 26,
   "metadata": {
    "ExecuteTime": {
     "end_time": "2019-11-26T16:41:44.866263Z",
     "start_time": "2019-11-26T16:41:44.862262Z"
    }
   },
   "outputs": [
    {
     "name": "stdout",
     "output_type": "stream",
     "text": [
      "Velocity in LB units =  [8.00000000e-07 1.42262353e-05 2.52982213e-04 4.49873060e-03\n",
      " 8.00000000e-02]\n",
      "Aperture in LB units =  3.2\n"
     ]
    }
   ],
   "source": [
    "ulb = u *(dt/dx)\n",
    "alb = aperture/dx\n",
    "\n",
    "print(\"Velocity in LB units = \",ulb)\n",
    "print(\"Aperture in LB units = \",alb)"
   ]
  },
  {
   "cell_type": "markdown",
   "metadata": {},
   "source": [
    "# Current Code structure \n",
    "1. Read in the XML file and set variables\n",
    "2. Read in STL file and convert to lattice grid \n",
    "3. perform collide and streaming until set time step saving a VTK at set intervals. Once complete save checkpoint files \n",
    "4. couple velocity and concentration\n",
    "5. stream and collide for advection diffusion for set time steps"
   ]
  }
 ],
 "metadata": {
  "hide_input": false,
  "kernelspec": {
   "display_name": "Python 3",
   "language": "python",
   "name": "python3"
  },
  "language_info": {
   "codemirror_mode": {
    "name": "ipython",
    "version": 3
   },
   "file_extension": ".py",
   "mimetype": "text/x-python",
   "name": "python",
   "nbconvert_exporter": "python",
   "pygments_lexer": "ipython3",
   "version": "3.7.1"
  },
  "latex_envs": {
   "LaTeX_envs_menu_present": true,
   "autoclose": false,
   "autocomplete": true,
   "bibliofile": "biblio.bib",
   "cite_by": "apalike",
   "current_citInitial": 1,
   "eqLabelWithNumbers": true,
   "eqNumInitial": 1,
   "hotkeys": {
    "equation": "Ctrl-E",
    "itemize": "Ctrl-I"
   },
   "labels_anchors": false,
   "latex_user_defs": false,
   "report_style_numbering": false,
   "user_envs_cfg": false
  },
  "toc": {
   "base_numbering": 1,
   "nav_menu": {},
   "number_sections": true,
   "sideBar": true,
   "skip_h1_title": false,
   "title_cell": "Table of Contents",
   "title_sidebar": "Contents",
   "toc_cell": false,
   "toc_position": {},
   "toc_section_display": true,
   "toc_window_display": false
  },
  "varInspector": {
   "cols": {
    "lenName": 16,
    "lenType": 16,
    "lenVar": 40
   },
   "kernels_config": {
    "python": {
     "delete_cmd_postfix": "",
     "delete_cmd_prefix": "del ",
     "library": "var_list.py",
     "varRefreshCmd": "print(var_dic_list())"
    },
    "r": {
     "delete_cmd_postfix": ") ",
     "delete_cmd_prefix": "rm(",
     "library": "var_list.r",
     "varRefreshCmd": "cat(var_dic_list()) "
    }
   },
   "types_to_exclude": [
    "module",
    "function",
    "builtin_function_or_method",
    "instance",
    "_Feature"
   ],
   "window_display": false
  }
 },
 "nbformat": 4,
 "nbformat_minor": 1
}
